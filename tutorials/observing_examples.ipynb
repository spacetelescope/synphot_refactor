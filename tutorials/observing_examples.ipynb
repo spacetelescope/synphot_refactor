{
 "cells": [
  {
   "cell_type": "markdown",
   "metadata": {},
   "source": [
    "# <center>Computing the count rate of observing <a href=\"https://en.wikipedia.org/wiki/HAT-P-11\">HAT-P-11</a> with the APO 3.5m telescope using <tt>synphot</tt></center>"
   ]
  },
  {
   "cell_type": "code",
   "execution_count": 46,
   "metadata": {},
   "outputs": [],
   "source": [
    "%matplotlib inline\n",
    "import matplotlib.pyplot as plt\n",
    "import numpy as np\n",
    "\n",
    "import astropy.units as u\n",
    "from astropy.io import fits\n",
    "from astropy.modeling.blackbody import blackbody_lambda\n",
    "\n",
    "import synphot.units as units\n",
    "from synphot.models import BlackBody1D, BlackBodyNorm1D, Empirical1D\n",
    "from synphot.spectrum import SourceSpectrum, SpectralElement\n",
    "from synphot.observation import Observation"
   ]
  },
  {
   "cell_type": "markdown",
   "metadata": {},
   "source": [
    "### Compute the photon flux (of HAT-P-11)"
   ]
  },
  {
   "cell_type": "markdown",
   "metadata": {},
   "source": [
    "First we are going to download a model spectrum for HAT-P-11 from <a href=\"http://phoenix.astro.physik.uni-goettingen.de/\">PHOENIX</a>:"
   ]
  },
  {
   "cell_type": "code",
   "execution_count": null,
   "metadata": {},
   "outputs": [],
   "source": [
    "T_eff = 4800 # approx temperature of hatp11[K], Bakos et al. 2010\n",
    "\n",
    "url = ('ftp://phoenix.astro.physik.uni-goettingen.de/v2.0/HiResFITS/'\n",
    "       'PHOENIX-ACES-AGSS-COND-2011/Z-0.0/lte{T_eff:05d}-{log_g:1.2f}-0.0.PHOENIX-'\n",
    "       'ACES-AGSS-COND-2011-HiRes.fits').format(T_eff=T_eff, log_g=4.5)\n",
    "# Unit from PHOENIX model file:\n",
    "flux = fits.getdata(url) * (u.erg / u.s / u.cm ** 2 / u.cm)\n",
    "\n",
    "wavelength_url = ('ftp://phoenix.astro.physik.uni-goettingen.de/v2.0/HiResFITS/'\n",
    "                  'WAVE_PHOENIX-ACES-AGSS-COND-2011.fits')\n",
    "wavelengths = fits.getdata(wavelength_url) * u.Angstrom"
   ]
  },
  {
   "cell_type": "markdown",
   "metadata": {},
   "source": [
    "Then construct a `synphot` <a href=\"https://synphot.readthedocs.io/en/latest/synphot/spectrum.html#arrays\">source spectrum object</a> from the above arrays:"
   ]
  },
  {
   "cell_type": "code",
   "execution_count": null,
   "metadata": {},
   "outputs": [],
   "source": [
    "photlam_hatp11 = SourceSpectrum(Empirical1D,\n",
    "                                points=wavelengths, lookup_table=flux)\n",
    "\n",
    "# Compute the flux at Earth from the luminosity \n",
    "R = 0.683 * u.R_sun  # radius in solar units, Deming et al. 2011\n",
    "d = 123 * u.lyr # distance to HATP11 in light years from Gaia parallax\n",
    "photlam_hatp11 = photlam_hatp11 * float(R / d) ** 2 / np.pi\n",
    "\n",
    "photlam_hatp11.plot(flux_unit='Jy', left=0, right=60000)"
   ]
  },
  {
   "cell_type": "markdown",
   "metadata": {},
   "source": [
    "(for other methods of constructing source spectra with `synphot`, see the first bulleted list <a href=\"https://synphot.readthedocs.io/en/latest/synphot/spectrum.html#arrays\">here</a>) "
   ]
  },
  {
   "cell_type": "markdown",
   "metadata": {},
   "source": [
    "### Simulate the observation with a specific instrument"
   ]
  },
  {
   "cell_type": "markdown",
   "metadata": {},
   "source": [
    "<p>Let's observe HAT-P-11 with the <a href=\"https://www.apo.nmsu.edu/arc35m/Instruments/ARCTIC/\">ARCTIC instrument</a> on APO's 3.5m telescope."
   ]
  },
  {
   "cell_type": "code",
   "execution_count": null,
   "metadata": {},
   "outputs": [],
   "source": [
    "r = 3.5 / 2 * u.m  # radius of 3.5m ARC telescope at APO\n",
    "area = np.pi * r ** 2\n",
    "gain = 1.9  # the gain of this detector in e-/ADU"
   ]
  },
  {
   "cell_type": "markdown",
   "metadata": {},
   "source": [
    "For the bandpass, we will use the SDSS filters - obtaining the transmission functions <a href=\"http://filters.apo.nmsu.edu/curves/SDSS/\">here</a>. \n",
    "<p>To construct a bandpass from a file with <tt>synphot</tt>, use <a href=\"https://synphot.readthedocs.io/en/latest/api/synphot.spectrum.SpectralElement.html#synphot.spectrum\">SpectralElement</a>:</p>"
   ]
  },
  {
   "cell_type": "code",
   "execution_count": null,
   "metadata": {},
   "outputs": [],
   "source": [
    "sdss = ['u', 'g', 'r', 'i', 'z']\n",
    "\n",
    "bandpasses = {}\n",
    "for band in sdss:\n",
    "    bp = SpectralElement.from_file('sdss/' + band + '.dat')\n",
    "    bandpasses[band] = bp\n",
    "    \n",
    "    plt.plot(bp.waveset, bp(bp.waveset), label=band)\n",
    "plt.legend(loc='lower right')\n",
    "plt.xlim(3000, 14000)\n",
    "plt.show()"
   ]
  },
  {
   "cell_type": "markdown",
   "metadata": {},
   "source": [
    "Then we model the attenuation by the atmosphere using the Cerro Paranal model transmittance curves for an airmass of 1.5:"
   ]
  },
  {
   "cell_type": "code",
   "execution_count": null,
   "metadata": {},
   "outputs": [],
   "source": [
    "atmos = SpectralElement.from_file('CerroParanal-atmosx1.5.txt', wave_unit=\"nm\")\n",
    "atmos.plot(left=3000, right=14000)"
   ]
  },
  {
   "cell_type": "markdown",
   "metadata": {},
   "source": [
    "We also model the affect of the CCD's quantum efficiency on the spectrum. For this we use the values in the table found in section 3.5 on <a href=\"https://www.apo.nmsu.edu/arc35m/Instruments/ARCTIC/#3p5\">this page</a>."
   ]
  },
  {
   "cell_type": "code",
   "execution_count": null,
   "metadata": {},
   "outputs": [],
   "source": [
    "qe = SpectralElement.from_file('ccd_QE.csv', wave_unit=\"nm\")\n",
    "qe._model.lookup_table /= 100  # convert percentages to decimals\n",
    "\n",
    "qe.plot(left=3000, right=14000)"
   ]
  },
  {
   "cell_type": "markdown",
   "metadata": {},
   "source": [
    "Once we have all of the effects on the source spectrum set, we can combine them together by simply multiplying the SpectralElement objects:"
   ]
  },
  {
   "cell_type": "code",
   "execution_count": null,
   "metadata": {},
   "outputs": [],
   "source": [
    "bp_atmos_qe = {} # setting up a dictionary for the different SDSS bands\n",
    "for band in sdss:\n",
    "    bp_atmos_qe[band] = bandpasses[band] * atmos * qe\n",
    "    \n",
    "bp_atmos_qe['r'].plot(left=3000, right=14000)"
   ]
  },
  {
   "cell_type": "markdown",
   "metadata": {},
   "source": [
    "Finally, we convolve the source spectrum with all of these effects using <tt>synphot</tt>'s <a href=\"https://synphot.readthedocs.io/en/latest/synphot/observation.html\">Observation</a>:"
   ]
  },
  {
   "cell_type": "code",
   "execution_count": null,
   "metadata": {
    "scrolled": true
   },
   "outputs": [],
   "source": [
    "obs = {}\n",
    "for band in sdss:\n",
    "    obs[band] = Observation(photlam_hatp11, \n",
    "                      bp_atmos_qe[band],\n",
    "                      binset=bp_atmos_qe[band].waveset,\n",
    "                      force='taper')"
   ]
  },
  {
   "cell_type": "markdown",
   "metadata": {},
   "source": [
    "To get the expected count rate for a specific collecting area, use the <a href=\"https://synphot.readthedocs.io/en/latest/api/synphot.observation.Observation.html#synphot.observation.Observation.countrate\">countrate()</a> method: "
   ]
  },
  {
   "cell_type": "code",
   "execution_count": null,
   "metadata": {},
   "outputs": [],
   "source": [
    "waverange = (3000, 11000) # according to the ARCTIC webpage, the z band is cut off at 11k AA\n",
    "\n",
    "print(\"HAT-P-11 counts in each filter for 10 s exposure:\")\n",
    "for band in sdss:\n",
    "    # enforce the wavelength range by setting waverange\n",
    "    countrate = obs[band].countrate(area=area, waverange=waverange) / gain\n",
    "    print(band + \":\", countrate * 10 * u.s)"
   ]
  },
  {
   "cell_type": "markdown",
   "metadata": {
    "collapsed": true
   },
   "source": [
    "# <center>Same instrument and telescope, this time observing <a href=\"https://en.wikipedia.org/wiki/TRAPPIST-1\">TRAPPIST-1</a></center>"
   ]
  },
  {
   "cell_type": "code",
   "execution_count": 18,
   "metadata": {},
   "outputs": [
    {
     "data": {
      "image/png": "[encoded data removed]",
      "text/plain": [
       "<Figure size 432x288 with 1 Axes>"
      ]
     },
     "metadata": {
      "needs_background": "light"
     },
     "output_type": "display_data"
    }
   ],
   "source": [
    "T_eff = 2500  # temperature of trappist-1 [K], Delrez et al. 2018\n",
    "\n",
    "photlam_trappist1 = SourceSpectrum(BlackBody1D, temperature=T_eff)\n",
    "\n",
    "# Compute the flux at Earth from the luminosity \n",
    "R = 0.121 * u.R_sun  # radius of trappist-1 in solar units, Van Grootel et al. 2018\n",
    "d = 39.6 * u.lyr  # distance to trappist-1 in light years from Gaia parallax\n",
    "photlam_trappist1 = photlam_trappist1 * float(R / d) ** 2\n",
    "\n",
    "photlam_trappist1.plot(left=10000, right=25000)"
   ]
  },
  {
   "cell_type": "markdown",
   "metadata": {},
   "source": [
    "(including the effects of the QE and atmosphere)"
   ]
  },
  {
   "cell_type": "code",
   "execution_count": 19,
   "metadata": {},
   "outputs": [
    {
     "name": "stdout",
     "output_type": "stream",
     "text": [
      "TRAPPIST-1 counts in each filter for 10s exposure:\n",
      "u: 183.54453225836775 ct\n",
      "g: 19952.369757809432 ct\n",
      "r: 116953.76544968956 ct\n",
      "i: 294517.67909918143 ct\n",
      "z: 261556.97303697298 ct\n"
     ]
    }
   ],
   "source": [
    "print(\"TRAPPIST-1 counts in each filter for 10s exposure:\")\n",
    "for band in sdss:\n",
    "    bp = SpectralElement.from_file('sdss/' + band + '.dat')\n",
    "    obs = Observation(photlam_trappist1, bp * qe * atmos, binset=bp.waveset)\n",
    "    \n",
    "    countrate = obs.countrate(area=area, waverange=waverange) / gain\n",
    "    print(band + \":\", countrate * 10 * u.s)"
   ]
  }
 ],
 "metadata": {
  "anaconda-cloud": {},
  "kernelspec": {
   "display_name": "Python 3",
   "language": "python",
   "name": "python3"
  },
  "language_info": {
   "codemirror_mode": {
    "name": "ipython",
    "version": 3
   },
   "file_extension": ".py",
   "mimetype": "text/x-python",
   "name": "python",
   "nbconvert_exporter": "python",
   "pygments_lexer": "ipython3",
   "version": "3.7.1"
  }
 },
 "nbformat": 4,
 "nbformat_minor": 1
}
